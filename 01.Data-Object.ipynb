{
 "cells": [
  {
   "cell_type": "markdown",
   "metadata": {},
   "source": [
    "## Pandas overview\n",
    "Pandas is an open-source library that is built on top of NumPy library  \n",
    "It is a Python package that offers various data structures and operations for manipulating numerical data and time series  \n",
    "It is mainly popular for importing and analyzing data much easier  \n",
    "Pandas is fast and it has high-performance & productivity for users  \n",
    "\n",
    "Pandas install:  \n",
    "    pip install pandas"
   ]
  },
  {
   "cell_type": "code",
   "execution_count": 3,
   "metadata": {},
   "outputs": [
    {
     "data": {
      "text/plain": [
       "'2.0.3'"
      ]
     },
     "execution_count": 3,
     "metadata": {},
     "output_type": "execute_result"
    }
   ],
   "source": [
    "import pandas as pd\n",
    "pd.__version__"
   ]
  },
  {
   "cell_type": "markdown",
   "metadata": {},
   "source": [
    "# Pandas data structure  \n",
    "- Series\n",
    "- DataFrame"
   ]
  },
  {
   "cell_type": "markdown",
   "metadata": {},
   "source": [
    "## Series\n",
    "- A one-dimensional labeled array capable of holding data of any type\n",
    "- The axis labels are collectively called indexes"
   ]
  },
  {
   "cell_type": "code",
   "execution_count": null,
   "metadata": {},
   "outputs": [],
   "source": []
  },
  {
   "cell_type": "code",
   "execution_count": 17,
   "metadata": {},
   "outputs": [
    {
     "data": {
      "text/plain": [
       "0    1\n",
       "1    2\n",
       "2    3\n",
       "3    4\n",
       "dtype: int64"
      ]
     },
     "execution_count": 17,
     "metadata": {},
     "output_type": "execute_result"
    }
   ],
   "source": [
    "obj = pd.Series([1, 2, 3, 4])\n",
    "obj"
   ]
  },
  {
   "cell_type": "code",
   "execution_count": 24,
   "metadata": {},
   "outputs": [
    {
     "name": "stdout",
     "output_type": "stream",
     "text": [
      "a        1\n",
      "b    Trinh\n",
      "c     True\n",
      "d        2\n",
      "dtype: object\n",
      "Index(['a', 'b', 'c', 'd'], dtype='object')\n",
      "[1 'Trinh' True 2]\n",
      "True\n"
     ]
    }
   ],
   "source": [
    "obj = pd.Series([1, 'Trinh', True, 2], index=['a', 'b', 'c', 'd'])\n",
    "print(obj)\n",
    "print(obj.index)\n",
    "print(obj.values)\n",
    "print(obj['c'])"
   ]
  },
  {
   "cell_type": "code",
   "execution_count": null,
   "metadata": {},
   "outputs": [],
   "source": [
    "obj = pd.Series({'Trinh': 10, 'Cong': 20, 'Thanh': 30, 'Tien': 40})\n",
    "print(obj)\n",
    "print()"
   ]
  }
 ],
 "metadata": {
  "kernelspec": {
   "display_name": "Python 3",
   "language": "python",
   "name": "python3"
  },
  "language_info": {
   "codemirror_mode": {
    "name": "ipython",
    "version": 3
   },
   "file_extension": ".py",
   "mimetype": "text/x-python",
   "name": "python",
   "nbconvert_exporter": "python",
   "pygments_lexer": "ipython3",
   "version": "3.8.10"
  },
  "orig_nbformat": 4
 },
 "nbformat": 4,
 "nbformat_minor": 2
}
