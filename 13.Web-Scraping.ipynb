{
 "cells": [
  {
   "cell_type": "markdown",
   "metadata": {},
   "source": [
    "Required modules:\n",
    "- request: load web page data\n",
    "- BeautifulSoup: extract data  \n",
    "  \n",
    "!pip install pandas  \n",
    "!pip install bs4  \n",
    "!pip install requests"
   ]
  },
  {
   "cell_type": "code",
   "execution_count": 74,
   "metadata": {},
   "outputs": [],
   "source": [
    "import requests\n",
    "from bs4 import BeautifulSoup\n",
    "import pandas as pd"
   ]
  },
  {
   "cell_type": "markdown",
   "metadata": {},
   "source": [
    "### Loading data from webpage"
   ]
  },
  {
   "cell_type": "code",
   "execution_count": 75,
   "metadata": {},
   "outputs": [
    {
     "name": "stdout",
     "output_type": "stream",
     "text": [
      "200\n"
     ]
    }
   ],
   "source": [
    "url = 'https://codedamn.com'\n",
    "res = requests.get(url=url)\n",
    "\n",
    "print(res.status_code)"
   ]
  },
  {
   "cell_type": "markdown",
   "metadata": {},
   "source": [
    "### Extract data with BeautifulSoup"
   ]
  },
  {
   "cell_type": "code",
   "execution_count": 78,
   "metadata": {},
   "outputs": [
    {
     "name": "stdout",
     "output_type": "stream",
     "text": [
      "<title>Learn To Code For Free — Interactive Courses And Practice Problems</title>\n"
     ]
    }
   ],
   "source": [
    "page = requests.get(\"https://codedamn.com\")\n",
    "soup = BeautifulSoup(page.content, 'html.parser')\n",
    "print(soup.title)"
   ]
  },
  {
   "cell_type": "markdown",
   "metadata": {},
   "source": [
    "### Select items"
   ]
  },
  {
   "cell_type": "markdown",
   "metadata": {},
   "source": [
    "Using select() method"
   ]
  },
  {
   "cell_type": "code",
   "execution_count": 25,
   "metadata": {},
   "outputs": [
    {
     "name": "stdout",
     "output_type": "stream",
     "text": [
      "[<h1>Test Sites</h1>, <h1>E-commerce training site</h1>]\n",
      "\n",
      "<class 'bs4.element.ResultSet'>\n",
      "\n",
      "Test Sites\n"
     ]
    }
   ],
   "source": [
    "page = requests.get('https://codedamn-classrooms.github.io/webscraper-python-codedamn-classroom-website/')\n",
    "soup = BeautifulSoup(page.content, 'html.parser')\n",
    "\n",
    "heading01 = soup.select('h1')\n",
    "print(heading01)\n",
    "print()\n",
    "print(type(heading01))\n",
    "print()\n",
    "print(heading01[0].text)"
   ]
  },
  {
   "cell_type": "markdown",
   "metadata": {},
   "source": [
    "Using find() method"
   ]
  },
  {
   "cell_type": "code",
   "execution_count": 22,
   "metadata": {},
   "outputs": [
    {
     "name": "stdout",
     "output_type": "stream",
     "text": [
      "<h1>Test Sites</h1>\n"
     ]
    }
   ],
   "source": [
    "print(soup.find('h1'))"
   ]
  },
  {
   "cell_type": "markdown",
   "metadata": {},
   "source": [
    "Using find_all() method"
   ]
  },
  {
   "cell_type": "code",
   "execution_count": 27,
   "metadata": {},
   "outputs": [
    {
     "name": "stdout",
     "output_type": "stream",
     "text": [
      "[<h1>Test Sites</h1>, <h1>E-commerce training site</h1>]\n",
      "\n",
      "<class 'bs4.element.ResultSet'>\n",
      "\n",
      "Test Sites\n"
     ]
    }
   ],
   "source": [
    "heading02 = soup.find_all('h1')\n",
    "print(heading02)\n",
    "print()\n",
    "print(type(heading02))\n",
    "print()\n",
    "print(heading02[0].text)"
   ]
  },
  {
   "cell_type": "markdown",
   "metadata": {},
   "source": [
    "#### Example top items"
   ]
  },
  {
   "cell_type": "code",
   "execution_count": 46,
   "metadata": {},
   "outputs": [
    {
     "data": {
      "text/plain": [
       "[{'title: ': 'Asus AsusPro Adv...', 'reviewed': '7 reviews'},\n",
       " {'title: ': 'Asus ROG Strix G...', 'reviewed': '4 reviews'},\n",
       " {'title: ': 'Acer Aspire 3 A3...', 'reviewed': '2 reviews'}]"
      ]
     },
     "execution_count": 46,
     "metadata": {},
     "output_type": "execute_result"
    }
   ],
   "source": [
    "page = requests.get('https://codedamn-classrooms.github.io/webscraper-python-codedamn-classroom-website/')\n",
    "\n",
    "soup = BeautifulSoup(page.content)\n",
    "\n",
    "top_items = []\n",
    "products = soup.select('div.thumbnail')\n",
    "\n",
    "for item in products:\n",
    "    title = item.select('h4 > a.title')[0].text.strip()\n",
    "    rating = item.select('div.ratings')[0].text.strip()\n",
    "    top_items.append({'title: ': title.strip(), 'reviewed': rating})\n",
    "\n",
    "top_items\n"
   ]
  },
  {
   "cell_type": "markdown",
   "metadata": {},
   "source": [
    "### Example extract links"
   ]
  },
  {
   "cell_type": "code",
   "execution_count": 58,
   "metadata": {},
   "outputs": [
    {
     "data": {
      "text/plain": [
       "[{'label': 'Toggle navigation', 'link': ''},\n",
       " {'label': '', 'link': '/webscraper-python-codedamn-classroom-website/'},\n",
       " {'label': '', 'link': '#page-top'},\n",
       " {'label': 'Web Scraper',\n",
       "  'link': '/webscraper-python-codedamn-classroom-website/'},\n",
       " {'label': 'Cloud Scraper',\n",
       "  'link': '/webscraper-python-codedamn-classroom-website/cloud-scraper'},\n",
       " {'label': 'Pricing',\n",
       "  'link': '/webscraper-python-codedamn-classroom-website/pricing'},\n",
       " {'label': 'Learn', 'link': '#section3'},\n",
       " {'label': 'Documentation',\n",
       "  'link': '/webscraper-python-codedamn-classroom-website/documentation'},\n",
       " {'label': 'Video Tutorials',\n",
       "  'link': '/webscraper-python-codedamn-classroom-website/tutorials'},\n",
       " {'label': 'How to',\n",
       "  'link': '/webscraper-python-codedamn-classroom-website/how-to-videos'},\n",
       " {'label': 'Test Sites',\n",
       "  'link': '/webscraper-python-codedamn-classroom-website/test-sites'},\n",
       " {'label': 'Forum', 'link': 'https://forum.webscraper.io/'},\n",
       " {'label': 'Install',\n",
       "  'link': 'https://chrome.google.com/webstore/detail/web-scraper/jnhgnonknehpejjnehehllkliplmbmhn?hl=en'},\n",
       " {'label': 'Login', 'link': 'https://cloud.webscraper.io/'},\n",
       " {'label': 'Home',\n",
       "  'link': '/webscraper-python-codedamn-classroom-website/test-sites/e-commerce/allinone'},\n",
       " {'label': 'Computers',\n",
       "  'link': '/webscraper-python-codedamn-classroom-website/test-sites/e-commerce/allinone/computers'},\n",
       " {'label': 'Phones',\n",
       "  'link': '/webscraper-python-codedamn-classroom-website/test-sites/e-commerce/allinone/phones'},\n",
       " {'label': 'Asus AsusPro Adv...',\n",
       "  'link': '/webscraper-python-codedamn-classroom-website/test-sites/e-commerce/allinone/product/593'},\n",
       " {'label': 'Asus ROG Strix G...',\n",
       "  'link': '/webscraper-python-codedamn-classroom-website/test-sites/e-commerce/allinone/product/583'},\n",
       " {'label': 'Acer Aspire 3 A3...',\n",
       "  'link': '/webscraper-python-codedamn-classroom-website/test-sites/e-commerce/allinone/product/576'},\n",
       " {'label': 'Web Scraper browser extension',\n",
       "  'link': '/webscraper-python-codedamn-classroom-website/'},\n",
       " {'label': 'Web Scraper Cloud',\n",
       "  'link': '/webscraper-python-codedamn-classroom-website/pricing'},\n",
       " {'label': 'Contact',\n",
       "  'link': '/webscraper-python-codedamn-classroom-website/contact'},\n",
       " {'label': 'Website Privacy Policy',\n",
       "  'link': '/webscraper-python-codedamn-classroom-website/privacy-policy'},\n",
       " {'label': 'Browser Extension Privacy Policy',\n",
       "  'link': '/webscraper-python-codedamn-classroom-website/extension-privacy-policy'},\n",
       " {'label': 'Media kit',\n",
       "  'link': 'http://webscraperio.us-east-1.elasticbeanstalk.com/downloads/Web_Scraper_Media_Kit.zip'},\n",
       " {'label': 'Jobs',\n",
       "  'link': '/webscraper-python-codedamn-classroom-website/jobs'},\n",
       " {'label': 'Blog',\n",
       "  'link': '/webscraper-python-codedamn-classroom-website/blog'},\n",
       " {'label': 'Documentation',\n",
       "  'link': '/webscraper-python-codedamn-classroom-website/documentation'},\n",
       " {'label': 'Video Tutorials',\n",
       "  'link': '/webscraper-python-codedamn-classroom-website/tutorials'},\n",
       " {'label': 'Screenshots',\n",
       "  'link': '/webscraper-python-codedamn-classroom-website/screenshots'},\n",
       " {'label': 'Test Sites',\n",
       "  'link': '/webscraper-python-codedamn-classroom-website/test-sites'},\n",
       " {'label': 'Forum', 'link': 'https://forum.webscraper.io/'},\n",
       " {'label': 'info@webscraper.io', 'link': 'mailto:info@webscraper.io'},\n",
       " {'label': '', 'link': 'https://www.facebook.com/webscraperio/'},\n",
       " {'label': '', 'link': 'https://twitter.com/webscraperio'},\n",
       " {'label': 'Web Scraper', 'link': '#'}]"
      ]
     },
     "execution_count": 58,
     "metadata": {},
     "output_type": "execute_result"
    }
   ],
   "source": [
    "page = requests.get('https://codedamn-classrooms.github.io/webscraper-python-codedamn-classroom-website')\n",
    "\n",
    "soup = BeautifulSoup(page.content, 'html.parser')\n",
    "\n",
    "products = soup.select('a')\n",
    "all_links = []\n",
    "\n",
    "for item in products:\n",
    "    item_label = item.text.strip()\n",
    "    item_link = item.get('href')\n",
    "    item_link = item_link.strip() if item_link is not None else ''\n",
    "    all_links.append({'label': item_label, 'link': item_link})\n",
    "\n",
    "all_links\n"
   ]
  },
  {
   "cell_type": "markdown",
   "metadata": {},
   "source": [
    "### Generating CSV file from data"
   ]
  },
  {
   "cell_type": "code",
   "execution_count": 73,
   "metadata": {},
   "outputs": [],
   "source": [
    "import re\n",
    "\n",
    "page = requests.get('https://codedamn-classrooms.github.io/webscraper-python-codedamn-classroom-website')\n",
    "\n",
    "soup = BeautifulSoup(page.content, 'html.parser')\n",
    "\n",
    "products = soup.select('div.thumbnail')\n",
    "all_items = []\n",
    "\n",
    "for item in products:\n",
    "    item_name = item.select('h4 > a.title')[0].text\n",
    "    item_price = item.select('h4.price')[0].text\n",
    "    item_desctiption = re.sub('\\s+', '', item.select('p.description')[0].text)\n",
    "    item_review = item.select('div.ratings')[0].text.strip()\n",
    "    item_image = item.select('img.img-responsive')[0].get('src')\n",
    "\n",
    "    all_items.append({'name': item_name, 'price': item_price, 'desciption': item_desctiption, 'review': item_review, 'image': item_image})\n",
    "\n",
    "\n",
    "data_frame = pd.DataFrame(all_items)\n",
    "data_frame.to_csv('list_products.csv')\n"
   ]
  },
  {
   "cell_type": "code",
   "execution_count": null,
   "metadata": {},
   "outputs": [],
   "source": []
  }
 ],
 "metadata": {
  "kernelspec": {
   "display_name": "Python 3",
   "language": "python",
   "name": "python3"
  },
  "language_info": {
   "codemirror_mode": {
    "name": "ipython",
    "version": 3
   },
   "file_extension": ".py",
   "mimetype": "text/x-python",
   "name": "python",
   "nbconvert_exporter": "python",
   "pygments_lexer": "ipython3",
   "version": "3.8.10"
  },
  "orig_nbformat": 4
 },
 "nbformat": 4,
 "nbformat_minor": 2
}
